{
 "cells": [
  {
   "cell_type": "code",
   "execution_count": 1,
   "metadata": {},
   "outputs": [],
   "source": [
    "from pydantic import BaseModel,Field,field_validator\n",
    "class Record(BaseModel):\n",
    "    公司名稱:str = Field(alias='Name_Ins')\n",
    "    登記編號:str = Field(alias='No')\n",
    "    地址:str = Field(alias=\"Address\")\n",
    "    統編:str = Field(alias=\"tax_ID_number\")\n",
    "    緯度:float = Field(alias=\"wgs84aX\")\n",
    "    經度:float = Field(alias='wgs84aY')\n",
    "\n",
    "    @field_validator(\"緯度\",\"經度\",mode='before')\n",
    "    @classmethod\n",
    "    def abc(cls, value):\n",
    "        if value == '':\n",
    "            return 0.0\n",
    "        else:\n",
    "            return value\n",
    "\n",
    "class Result(BaseModel):\n",
    "    records:list[Record]\n"
   ]
  },
  {
   "cell_type": "code",
   "execution_count": 2,
   "metadata": {},
   "outputs": [],
   "source": [
    "import json\n",
    "from pprint import pprint\n",
    "from pydantic import BaseModel,Field,field_validator\n",
    "\n",
    "with open('新北市食品工廠清冊.json',encoding='utf-8') as file:\n",
    "    json_content:str = file.read()\n",
    "    all_data = json.loads(json_content)\n",
    "    #pprint(all_data)\n",
    "\n",
    "\n",
    "\n",
    "result:Result = Result.model_validate(all_data['result'])\n"
   ]
  },
  {
   "cell_type": "code",
   "execution_count": null,
   "metadata": {},
   "outputs": [],
   "source": [
    "for rec in result.records:\n",
    "    print(rec)"
   ]
  }
 ],
 "metadata": {
  "kernelspec": {
   "display_name": "Python 3",
   "language": "python",
   "name": "python3"
  },
  "language_info": {
   "codemirror_mode": {
    "name": "ipython",
    "version": 3
   },
   "file_extension": ".py",
   "mimetype": "text/x-python",
   "name": "python",
   "nbconvert_exporter": "python",
   "pygments_lexer": "ipython3",
   "version": "3.12.4"
  }
 },
 "nbformat": 4,
 "nbformat_minor": 2
}
