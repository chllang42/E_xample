{
 "cells": [
  {
   "cell_type": "code",
   "execution_count": null,
   "metadata": {},
   "outputs": [],
   "source": [
    "from csv import DictReader\n",
    "\n",
    "with open('aqx_p_488-2.csv',encoding='utf-8',newline='') as file:\n",
    "    reader:DictReader = DictReader(file,fieldnames=['sitename','county','aqi','status'],restkey='other')\n",
    "    sites:list[dict]= list(reader)\n",
    "    \n",
    "for site in sites:\n",
    "    print(site)"
   ]
  },
  {
   "cell_type": "code",
   "execution_count": null,
   "metadata": {},
   "outputs": [],
   "source": [
    "from csv import DictReader\n",
    "\n",
    "with open('aqx_p_488-2.csv',encoding='utf-8',newline='') as file:\n",
    "    reader:DictReader = DictReader(file)\n",
    "    sites:list[dict]= list(reader)\n",
    "    \n",
    "for site in sites:\n",
    "    print(site['sitename'],end=' ')\n",
    "    print(site['county'],end=' ')\n",
    "    print(site['aqi'],end=' ')\n",
    "    print(site['status'])"
   ]
  }
 ],
 "metadata": {
  "kernelspec": {
   "display_name": "Python 3",
   "language": "python",
   "name": "python3"
  },
  "language_info": {
   "codemirror_mode": {
    "name": "ipython",
    "version": 3
   },
   "file_extension": ".py",
   "mimetype": "text/x-python",
   "name": "python",
   "nbconvert_exporter": "python",
   "pygments_lexer": "ipython3",
   "version": "3.12.3"
  }
 },
 "nbformat": 4,
 "nbformat_minor": 2
}
