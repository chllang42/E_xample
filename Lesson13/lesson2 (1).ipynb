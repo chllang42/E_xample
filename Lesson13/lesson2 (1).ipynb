{
 "cells": [
  {
   "cell_type": "code",
   "execution_count": 1,
   "metadata": {},
   "outputs": [
    {
     "ename": "ModuleNotFoundError",
     "evalue": "No module named 'requests'",
     "output_type": "error",
     "traceback": [
      "\u001b[1;31m---------------------------------------------------------------------------\u001b[0m",
      "\u001b[1;31mModuleNotFoundError\u001b[0m                       Traceback (most recent call last)",
      "Cell \u001b[1;32mIn[1], line 1\u001b[0m\n\u001b[1;32m----> 1\u001b[0m \u001b[38;5;28;01mimport\u001b[39;00m \u001b[38;5;21;01mrequests\u001b[39;00m\n\u001b[0;32m      3\u001b[0m youbike_url \u001b[38;5;241m=\u001b[39m \u001b[38;5;124m'\u001b[39m\u001b[38;5;124mhttps://data.ntpc.gov.tw/api/datasets/010e5b15-3823-4b20-b401-b1cf000550c5/json?size=2000\u001b[39m\u001b[38;5;124m'\u001b[39m\n\u001b[0;32m      4\u001b[0m \u001b[38;5;28;01mtry\u001b[39;00m:\n",
      "\u001b[1;31mModuleNotFoundError\u001b[0m: No module named 'requests'"
     ]
    }
   ],
   "source": [
    "import requests\n",
    "\n",
    "youbike_url = 'https://data.ntpc.gov.tw/api/datasets/010e5b15-3823-4b20-b401-b1cf000550c5/json?size=2000'\n",
    "try:\n",
    "    response = requests.get(youbike_url)\n",
    "except Exception as e:\n",
    "    print(e)\n",
    "else:\n",
    "    print(response.text)"
   ]
  },
  {
   "cell_type": "code",
   "execution_count": null,
   "metadata": {},
   "outputs": [],
   "source": [
    "from pydantic import BaseModel,Field,RootModel,field_validator,field_serializer\n",
    "from pprint import pprint\n",
    "\n",
    "class Site(BaseModel):\n",
    "    站點名稱:str = Field(alias=\"sna\")\n",
    "    行政區:str = Field(alias=\"sarea\")\n",
    "    日期時間:str = Field(alias='mday')\n",
    "    地址:str = Field(alias='ar')\n",
    "    總數:int = Field(alias='tot')\n",
    "    可借:int = Field(alias='sbi')\n",
    "    可還:int = Field(alias='bemp')\n",
    "    狀態:bool = Field(alias='act')\n",
    "    緯度:float = Field(alias='lat')\n",
    "    經度:float = Field(alias='lng')\n",
    "\n",
    "    @field_validator('站點名稱',mode='before')\n",
    "    @classmethod\n",
    "    def abc(cls,value):\n",
    "        return value.split('_')[-1]\n",
    "    \n",
    "    @field_validator('日期時間',mode='before')\n",
    "    @classmethod\n",
    "    def abcd(cls,value):\n",
    "        return f'{value[:4]}-{value[4:6]}-{value[6:8]} {value[8:10]}:{value[10:12]}:{value[12:]}'\n",
    "    \n",
    "    @field_serializer('狀態')\n",
    "    def abce(self,value):\n",
    "        if value:\n",
    "            return \"營業中\"\n",
    "        else:\n",
    "            return \"維護中\"\n",
    "\n",
    "\n",
    "class Root(RootModel):\n",
    "    root:list[Site]\n",
    "\n",
    "\n",
    "root = Root.model_validate_json(response.text)\n",
    "data = root.model_dump()\n",
    "pprint(data)\n",
    "\n",
    "\n",
    "\n"
   ]
  },
  {
   "cell_type": "code",
   "execution_count": 5,
   "metadata": {},
   "outputs": [
    {
     "data": {
      "text/plain": [
       "'下庄市場'"
      ]
     },
     "execution_count": 5,
     "metadata": {},
     "output_type": "execute_result"
    }
   ],
   "source": [
    "'YouBike2.0_下庄市場'.split('_')[-1]"
   ]
  },
  {
   "cell_type": "code",
   "execution_count": null,
   "metadata": {},
   "outputs": [],
   "source": [
    "nums = [1,2,3,4,5,6,7,8,9,10]\n",
    "def efg(value):\n",
    "    if value % 2 == 1:\n",
    "        return True\n",
    "    else:\n",
    "        return False\n",
    "list(filter(efg,nums))"
   ]
  }
 ],
 "metadata": {
  "kernelspec": {
   "display_name": "Python 3",
   "language": "python",
   "name": "python3"
  },
  "language_info": {
   "codemirror_mode": {
    "name": "ipython",
    "version": 3
   },
   "file_extension": ".py",
   "mimetype": "text/x-python",
   "name": "python",
   "nbconvert_exporter": "python",
   "pygments_lexer": "ipython3",
   "version": "3.10.11"
  }
 },
 "nbformat": 4,
 "nbformat_minor": 2
}
